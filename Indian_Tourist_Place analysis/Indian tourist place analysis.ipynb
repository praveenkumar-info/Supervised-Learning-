{
 "cells": [
  {
   "cell_type": "code",
   "execution_count": 260,
   "id": "1d9536d2",
   "metadata": {},
   "outputs": [],
   "source": [
    "import warnings\n",
    "warnings.filterwarnings('ignore')\n",
    "import pandas as pd\n",
    "\n",
    "\n"
   ]
  },
  {
   "cell_type": "code",
   "execution_count": 261,
   "id": "17ea5f77",
   "metadata": {},
   "outputs": [
    {
     "data": {
      "text/html": [
       "<div>\n",
       "<style scoped>\n",
       "    .dataframe tbody tr th:only-of-type {\n",
       "        vertical-align: middle;\n",
       "    }\n",
       "\n",
       "    .dataframe tbody tr th {\n",
       "        vertical-align: top;\n",
       "    }\n",
       "\n",
       "    .dataframe thead th {\n",
       "        text-align: right;\n",
       "    }\n",
       "</style>\n",
       "<table border=\"1\" class=\"dataframe\">\n",
       "  <thead>\n",
       "    <tr style=\"text-align: right;\">\n",
       "      <th></th>\n",
       "      <th>Unnamed: 0</th>\n",
       "      <th>Zone</th>\n",
       "      <th>State</th>\n",
       "      <th>City</th>\n",
       "      <th>Name</th>\n",
       "      <th>Type</th>\n",
       "      <th>Establishment Year</th>\n",
       "      <th>time needed to visit in hrs</th>\n",
       "      <th>Google review rating</th>\n",
       "      <th>Entrance Fee in INR</th>\n",
       "      <th>Airport with 50km Radius</th>\n",
       "      <th>Weekly Off</th>\n",
       "      <th>Significance</th>\n",
       "      <th>DSLR Allowed</th>\n",
       "      <th>Number of google review in lakhs</th>\n",
       "      <th>Best Time to visit</th>\n",
       "    </tr>\n",
       "  </thead>\n",
       "  <tbody>\n",
       "    <tr>\n",
       "      <th>0</th>\n",
       "      <td>0</td>\n",
       "      <td>Northern</td>\n",
       "      <td>Delhi</td>\n",
       "      <td>Delhi</td>\n",
       "      <td>India Gate</td>\n",
       "      <td>War Memorial</td>\n",
       "      <td>1921</td>\n",
       "      <td>0.5</td>\n",
       "      <td>4.6</td>\n",
       "      <td>0</td>\n",
       "      <td>Yes</td>\n",
       "      <td>NaN</td>\n",
       "      <td>Historical</td>\n",
       "      <td>Yes</td>\n",
       "      <td>2.60</td>\n",
       "      <td>Evening</td>\n",
       "    </tr>\n",
       "    <tr>\n",
       "      <th>1</th>\n",
       "      <td>1</td>\n",
       "      <td>Northern</td>\n",
       "      <td>Delhi</td>\n",
       "      <td>Delhi</td>\n",
       "      <td>Humayun's Tomb</td>\n",
       "      <td>Tomb</td>\n",
       "      <td>1572</td>\n",
       "      <td>2.0</td>\n",
       "      <td>4.5</td>\n",
       "      <td>30</td>\n",
       "      <td>Yes</td>\n",
       "      <td>NaN</td>\n",
       "      <td>Historical</td>\n",
       "      <td>Yes</td>\n",
       "      <td>0.40</td>\n",
       "      <td>Afternoon</td>\n",
       "    </tr>\n",
       "    <tr>\n",
       "      <th>2</th>\n",
       "      <td>2</td>\n",
       "      <td>Northern</td>\n",
       "      <td>Delhi</td>\n",
       "      <td>Delhi</td>\n",
       "      <td>Akshardham Temple</td>\n",
       "      <td>Temple</td>\n",
       "      <td>2005</td>\n",
       "      <td>5.0</td>\n",
       "      <td>4.6</td>\n",
       "      <td>60</td>\n",
       "      <td>Yes</td>\n",
       "      <td>NaN</td>\n",
       "      <td>Religious</td>\n",
       "      <td>No</td>\n",
       "      <td>0.40</td>\n",
       "      <td>Afternoon</td>\n",
       "    </tr>\n",
       "    <tr>\n",
       "      <th>3</th>\n",
       "      <td>3</td>\n",
       "      <td>Northern</td>\n",
       "      <td>Delhi</td>\n",
       "      <td>Delhi</td>\n",
       "      <td>Waste to Wonder Park</td>\n",
       "      <td>Theme Park</td>\n",
       "      <td>2019</td>\n",
       "      <td>2.0</td>\n",
       "      <td>4.1</td>\n",
       "      <td>50</td>\n",
       "      <td>Yes</td>\n",
       "      <td>Monday</td>\n",
       "      <td>Environmental</td>\n",
       "      <td>Yes</td>\n",
       "      <td>0.27</td>\n",
       "      <td>Evening</td>\n",
       "    </tr>\n",
       "    <tr>\n",
       "      <th>4</th>\n",
       "      <td>4</td>\n",
       "      <td>Northern</td>\n",
       "      <td>Delhi</td>\n",
       "      <td>Delhi</td>\n",
       "      <td>Jantar Mantar</td>\n",
       "      <td>Observatory</td>\n",
       "      <td>1724</td>\n",
       "      <td>2.0</td>\n",
       "      <td>4.2</td>\n",
       "      <td>15</td>\n",
       "      <td>Yes</td>\n",
       "      <td>NaN</td>\n",
       "      <td>Scientific</td>\n",
       "      <td>Yes</td>\n",
       "      <td>0.31</td>\n",
       "      <td>Morning</td>\n",
       "    </tr>\n",
       "    <tr>\n",
       "      <th>...</th>\n",
       "      <td>...</td>\n",
       "      <td>...</td>\n",
       "      <td>...</td>\n",
       "      <td>...</td>\n",
       "      <td>...</td>\n",
       "      <td>...</td>\n",
       "      <td>...</td>\n",
       "      <td>...</td>\n",
       "      <td>...</td>\n",
       "      <td>...</td>\n",
       "      <td>...</td>\n",
       "      <td>...</td>\n",
       "      <td>...</td>\n",
       "      <td>...</td>\n",
       "      <td>...</td>\n",
       "      <td>...</td>\n",
       "    </tr>\n",
       "    <tr>\n",
       "      <th>320</th>\n",
       "      <td>320</td>\n",
       "      <td>Western</td>\n",
       "      <td>Gujarat</td>\n",
       "      <td>Gandhinagar</td>\n",
       "      <td>Akshardham</td>\n",
       "      <td>Temple</td>\n",
       "      <td>1992</td>\n",
       "      <td>3.0</td>\n",
       "      <td>4.6</td>\n",
       "      <td>0</td>\n",
       "      <td>Yes</td>\n",
       "      <td>Monday</td>\n",
       "      <td>Religious</td>\n",
       "      <td>No</td>\n",
       "      <td>0.18</td>\n",
       "      <td>All</td>\n",
       "    </tr>\n",
       "    <tr>\n",
       "      <th>321</th>\n",
       "      <td>321</td>\n",
       "      <td>Central</td>\n",
       "      <td>Uttar Pradesh</td>\n",
       "      <td>Agra</td>\n",
       "      <td>Agra Fort</td>\n",
       "      <td>Fort</td>\n",
       "      <td>1565</td>\n",
       "      <td>2.0</td>\n",
       "      <td>4.5</td>\n",
       "      <td>40</td>\n",
       "      <td>Yes</td>\n",
       "      <td>NaN</td>\n",
       "      <td>Historical</td>\n",
       "      <td>Yes</td>\n",
       "      <td>1.30</td>\n",
       "      <td>Afternoon</td>\n",
       "    </tr>\n",
       "    <tr>\n",
       "      <th>322</th>\n",
       "      <td>322</td>\n",
       "      <td>Central</td>\n",
       "      <td>Madhya Pradesh</td>\n",
       "      <td>Bhopal</td>\n",
       "      <td>Madhya Pradesh Tribal Museum</td>\n",
       "      <td>Museum</td>\n",
       "      <td>2013</td>\n",
       "      <td>2.0</td>\n",
       "      <td>4.7</td>\n",
       "      <td>10</td>\n",
       "      <td>Yes</td>\n",
       "      <td>Monday</td>\n",
       "      <td>Cultural</td>\n",
       "      <td>Yes</td>\n",
       "      <td>0.15</td>\n",
       "      <td>All</td>\n",
       "    </tr>\n",
       "    <tr>\n",
       "      <th>323</th>\n",
       "      <td>323</td>\n",
       "      <td>Northern</td>\n",
       "      <td>Rajasthan</td>\n",
       "      <td>Jaipur</td>\n",
       "      <td>City Palace</td>\n",
       "      <td>Palace</td>\n",
       "      <td>1727</td>\n",
       "      <td>2.0</td>\n",
       "      <td>4.4</td>\n",
       "      <td>200</td>\n",
       "      <td>Yes</td>\n",
       "      <td>NaN</td>\n",
       "      <td>Historical</td>\n",
       "      <td>Yes</td>\n",
       "      <td>0.51</td>\n",
       "      <td>Morning</td>\n",
       "    </tr>\n",
       "    <tr>\n",
       "      <th>324</th>\n",
       "      <td>324</td>\n",
       "      <td>Northern</td>\n",
       "      <td>Rajasthan</td>\n",
       "      <td>Jaipur</td>\n",
       "      <td>Albert Hall Museum</td>\n",
       "      <td>Museum</td>\n",
       "      <td>1887</td>\n",
       "      <td>2.0</td>\n",
       "      <td>4.5</td>\n",
       "      <td>200</td>\n",
       "      <td>Yes</td>\n",
       "      <td>NaN</td>\n",
       "      <td>Historical</td>\n",
       "      <td>Yes</td>\n",
       "      <td>0.63</td>\n",
       "      <td>All</td>\n",
       "    </tr>\n",
       "  </tbody>\n",
       "</table>\n",
       "<p>325 rows × 16 columns</p>\n",
       "</div>"
      ],
      "text/plain": [
       "     Unnamed: 0      Zone           State         City  \\\n",
       "0             0  Northern           Delhi        Delhi   \n",
       "1             1  Northern           Delhi        Delhi   \n",
       "2             2  Northern           Delhi        Delhi   \n",
       "3             3  Northern           Delhi        Delhi   \n",
       "4             4  Northern           Delhi        Delhi   \n",
       "..          ...       ...             ...          ...   \n",
       "320         320   Western         Gujarat  Gandhinagar   \n",
       "321         321   Central   Uttar Pradesh         Agra   \n",
       "322         322   Central  Madhya Pradesh       Bhopal   \n",
       "323         323  Northern       Rajasthan       Jaipur   \n",
       "324         324  Northern       Rajasthan       Jaipur   \n",
       "\n",
       "                             Name          Type Establishment Year  \\\n",
       "0                      India Gate  War Memorial               1921   \n",
       "1                  Humayun's Tomb          Tomb               1572   \n",
       "2               Akshardham Temple        Temple               2005   \n",
       "3            Waste to Wonder Park    Theme Park               2019   \n",
       "4                   Jantar Mantar   Observatory               1724   \n",
       "..                            ...           ...                ...   \n",
       "320                    Akshardham        Temple               1992   \n",
       "321                     Agra Fort          Fort               1565   \n",
       "322  Madhya Pradesh Tribal Museum        Museum               2013   \n",
       "323                   City Palace        Palace               1727   \n",
       "324            Albert Hall Museum        Museum               1887   \n",
       "\n",
       "     time needed to visit in hrs  Google review rating  Entrance Fee in INR  \\\n",
       "0                            0.5                   4.6                    0   \n",
       "1                            2.0                   4.5                   30   \n",
       "2                            5.0                   4.6                   60   \n",
       "3                            2.0                   4.1                   50   \n",
       "4                            2.0                   4.2                   15   \n",
       "..                           ...                   ...                  ...   \n",
       "320                          3.0                   4.6                    0   \n",
       "321                          2.0                   4.5                   40   \n",
       "322                          2.0                   4.7                   10   \n",
       "323                          2.0                   4.4                  200   \n",
       "324                          2.0                   4.5                  200   \n",
       "\n",
       "    Airport with 50km Radius Weekly Off   Significance DSLR Allowed  \\\n",
       "0                        Yes        NaN     Historical          Yes   \n",
       "1                        Yes        NaN     Historical          Yes   \n",
       "2                        Yes        NaN      Religious           No   \n",
       "3                        Yes     Monday  Environmental          Yes   \n",
       "4                        Yes        NaN     Scientific          Yes   \n",
       "..                       ...        ...            ...          ...   \n",
       "320                      Yes     Monday      Religious           No   \n",
       "321                      Yes        NaN     Historical          Yes   \n",
       "322                      Yes     Monday       Cultural          Yes   \n",
       "323                      Yes        NaN     Historical          Yes   \n",
       "324                      Yes        NaN     Historical          Yes   \n",
       "\n",
       "     Number of google review in lakhs Best Time to visit  \n",
       "0                                2.60            Evening  \n",
       "1                                0.40          Afternoon  \n",
       "2                                0.40          Afternoon  \n",
       "3                                0.27            Evening  \n",
       "4                                0.31            Morning  \n",
       "..                                ...                ...  \n",
       "320                              0.18                All  \n",
       "321                              1.30          Afternoon  \n",
       "322                              0.15                All  \n",
       "323                              0.51            Morning  \n",
       "324                              0.63                All  \n",
       "\n",
       "[325 rows x 16 columns]"
      ]
     },
     "execution_count": 261,
     "metadata": {},
     "output_type": "execute_result"
    }
   ],
   "source": [
    "topdf=pd.read_csv('Top Indian Places to Visit.csv')\n",
    "topdf\n"
   ]
  },
  {
   "cell_type": "code",
   "execution_count": 262,
   "id": "cd487a3e",
   "metadata": {},
   "outputs": [
    {
     "data": {
      "text/plain": [
       "Unnamed: 0                          325\n",
       "Zone                                  6\n",
       "State                                33\n",
       "City                                214\n",
       "Name                                321\n",
       "Type                                 78\n",
       "Establishment Year                  162\n",
       "time needed to visit in hrs          11\n",
       "Google review rating                 14\n",
       "Entrance Fee in INR                  33\n",
       "Airport with 50km Radius              2\n",
       "Weekly Off                            5\n",
       "Significance                         25\n",
       "DSLR Allowed                          2\n",
       "Number of google review in lakhs    108\n",
       "Best Time to visit                    7\n",
       "dtype: int64"
      ]
     },
     "execution_count": 262,
     "metadata": {},
     "output_type": "execute_result"
    }
   ],
   "source": [
    "topdf.nunique()"
   ]
  },
  {
   "cell_type": "code",
   "execution_count": 263,
   "id": "c7547d84",
   "metadata": {},
   "outputs": [
    {
     "data": {
      "text/plain": [
       "Entrance Fee in INR\n",
       "0       183\n",
       "50       21\n",
       "20       19\n",
       "30       13\n",
       "10       12\n",
       "100       8\n",
       "500       7\n",
       "40        7\n",
       "25        6\n",
       "300       5\n",
       "15        5\n",
       "150       4\n",
       "35        4\n",
       "200       4\n",
       "60        4\n",
       "1149      2\n",
       "2500      2\n",
       "80        2\n",
       "250       2\n",
       "1500      2\n",
       "1100      1\n",
       "650       1\n",
       "65        1\n",
       "5         1\n",
       "3500      1\n",
       "75        1\n",
       "750       1\n",
       "350       1\n",
       "7500      1\n",
       "1150      1\n",
       "550       1\n",
       "70        1\n",
       "890       1\n",
       "Name: count, dtype: int64"
      ]
     },
     "execution_count": 263,
     "metadata": {},
     "output_type": "execute_result"
    }
   ],
   "source": [
    "topdf['Entrance Fee in INR'].value_counts()"
   ]
  },
  {
   "cell_type": "code",
   "execution_count": 264,
   "id": "e1cd118e",
   "metadata": {},
   "outputs": [
    {
     "data": {
      "text/plain": [
       "Unnamed: 0                            0\n",
       "Zone                                  0\n",
       "State                                 0\n",
       "City                                  0\n",
       "Name                                  0\n",
       "Type                                  0\n",
       "Establishment Year                    0\n",
       "time needed to visit in hrs           0\n",
       "Google review rating                  0\n",
       "Entrance Fee in INR                   0\n",
       "Airport with 50km Radius              0\n",
       "Weekly Off                          293\n",
       "Significance                          0\n",
       "DSLR Allowed                          0\n",
       "Number of google review in lakhs      0\n",
       "Best Time to visit                    0\n",
       "dtype: int64"
      ]
     },
     "execution_count": 264,
     "metadata": {},
     "output_type": "execute_result"
    }
   ],
   "source": [
    "topdf.isnull().sum()"
   ]
  },
  {
   "cell_type": "code",
   "execution_count": 265,
   "id": "d4668ac5",
   "metadata": {},
   "outputs": [],
   "source": [
    "topdf=topdf[['Google review rating','time needed to visit in hrs','Number of google review in lakhs','Entrance Fee in INR']]"
   ]
  },
  {
   "cell_type": "code",
   "execution_count": 266,
   "id": "07ed9b49",
   "metadata": {},
   "outputs": [
    {
     "data": {
      "text/html": [
       "<div>\n",
       "<style scoped>\n",
       "    .dataframe tbody tr th:only-of-type {\n",
       "        vertical-align: middle;\n",
       "    }\n",
       "\n",
       "    .dataframe tbody tr th {\n",
       "        vertical-align: top;\n",
       "    }\n",
       "\n",
       "    .dataframe thead th {\n",
       "        text-align: right;\n",
       "    }\n",
       "</style>\n",
       "<table border=\"1\" class=\"dataframe\">\n",
       "  <thead>\n",
       "    <tr style=\"text-align: right;\">\n",
       "      <th></th>\n",
       "      <th>Google review rating</th>\n",
       "      <th>time needed to visit in hrs</th>\n",
       "      <th>Number of google review in lakhs</th>\n",
       "      <th>Entrance Fee in INR</th>\n",
       "    </tr>\n",
       "  </thead>\n",
       "  <tbody>\n",
       "    <tr>\n",
       "      <th>0</th>\n",
       "      <td>4.6</td>\n",
       "      <td>0.5</td>\n",
       "      <td>2.60</td>\n",
       "      <td>0</td>\n",
       "    </tr>\n",
       "    <tr>\n",
       "      <th>1</th>\n",
       "      <td>4.5</td>\n",
       "      <td>2.0</td>\n",
       "      <td>0.40</td>\n",
       "      <td>30</td>\n",
       "    </tr>\n",
       "    <tr>\n",
       "      <th>2</th>\n",
       "      <td>4.6</td>\n",
       "      <td>5.0</td>\n",
       "      <td>0.40</td>\n",
       "      <td>60</td>\n",
       "    </tr>\n",
       "    <tr>\n",
       "      <th>3</th>\n",
       "      <td>4.1</td>\n",
       "      <td>2.0</td>\n",
       "      <td>0.27</td>\n",
       "      <td>50</td>\n",
       "    </tr>\n",
       "    <tr>\n",
       "      <th>4</th>\n",
       "      <td>4.2</td>\n",
       "      <td>2.0</td>\n",
       "      <td>0.31</td>\n",
       "      <td>15</td>\n",
       "    </tr>\n",
       "    <tr>\n",
       "      <th>...</th>\n",
       "      <td>...</td>\n",
       "      <td>...</td>\n",
       "      <td>...</td>\n",
       "      <td>...</td>\n",
       "    </tr>\n",
       "    <tr>\n",
       "      <th>320</th>\n",
       "      <td>4.6</td>\n",
       "      <td>3.0</td>\n",
       "      <td>0.18</td>\n",
       "      <td>0</td>\n",
       "    </tr>\n",
       "    <tr>\n",
       "      <th>321</th>\n",
       "      <td>4.5</td>\n",
       "      <td>2.0</td>\n",
       "      <td>1.30</td>\n",
       "      <td>40</td>\n",
       "    </tr>\n",
       "    <tr>\n",
       "      <th>322</th>\n",
       "      <td>4.7</td>\n",
       "      <td>2.0</td>\n",
       "      <td>0.15</td>\n",
       "      <td>10</td>\n",
       "    </tr>\n",
       "    <tr>\n",
       "      <th>323</th>\n",
       "      <td>4.4</td>\n",
       "      <td>2.0</td>\n",
       "      <td>0.51</td>\n",
       "      <td>200</td>\n",
       "    </tr>\n",
       "    <tr>\n",
       "      <th>324</th>\n",
       "      <td>4.5</td>\n",
       "      <td>2.0</td>\n",
       "      <td>0.63</td>\n",
       "      <td>200</td>\n",
       "    </tr>\n",
       "  </tbody>\n",
       "</table>\n",
       "<p>325 rows × 4 columns</p>\n",
       "</div>"
      ],
      "text/plain": [
       "     Google review rating  time needed to visit in hrs  \\\n",
       "0                     4.6                          0.5   \n",
       "1                     4.5                          2.0   \n",
       "2                     4.6                          5.0   \n",
       "3                     4.1                          2.0   \n",
       "4                     4.2                          2.0   \n",
       "..                    ...                          ...   \n",
       "320                   4.6                          3.0   \n",
       "321                   4.5                          2.0   \n",
       "322                   4.7                          2.0   \n",
       "323                   4.4                          2.0   \n",
       "324                   4.5                          2.0   \n",
       "\n",
       "     Number of google review in lakhs  Entrance Fee in INR  \n",
       "0                                2.60                    0  \n",
       "1                                0.40                   30  \n",
       "2                                0.40                   60  \n",
       "3                                0.27                   50  \n",
       "4                                0.31                   15  \n",
       "..                                ...                  ...  \n",
       "320                              0.18                    0  \n",
       "321                              1.30                   40  \n",
       "322                              0.15                   10  \n",
       "323                              0.51                  200  \n",
       "324                              0.63                  200  \n",
       "\n",
       "[325 rows x 4 columns]"
      ]
     },
     "execution_count": 266,
     "metadata": {},
     "output_type": "execute_result"
    }
   ],
   "source": [
    "topdf"
   ]
  },
  {
   "cell_type": "code",
   "execution_count": 267,
   "id": "43153f5e",
   "metadata": {
    "scrolled": true
   },
   "outputs": [
    {
     "data": {
      "text/html": [
       "<div>\n",
       "<style scoped>\n",
       "    .dataframe tbody tr th:only-of-type {\n",
       "        vertical-align: middle;\n",
       "    }\n",
       "\n",
       "    .dataframe tbody tr th {\n",
       "        vertical-align: top;\n",
       "    }\n",
       "\n",
       "    .dataframe thead th {\n",
       "        text-align: right;\n",
       "    }\n",
       "</style>\n",
       "<table border=\"1\" class=\"dataframe\">\n",
       "  <thead>\n",
       "    <tr style=\"text-align: right;\">\n",
       "      <th></th>\n",
       "      <th>Google review rating</th>\n",
       "      <th>time needed to visit in hrs</th>\n",
       "      <th>Number of google review in lakhs</th>\n",
       "      <th>Entrance Fee in INR</th>\n",
       "    </tr>\n",
       "  </thead>\n",
       "  <tbody>\n",
       "    <tr>\n",
       "      <th>1</th>\n",
       "      <td>4.5</td>\n",
       "      <td>2.0</td>\n",
       "      <td>0.40</td>\n",
       "      <td>30</td>\n",
       "    </tr>\n",
       "    <tr>\n",
       "      <th>2</th>\n",
       "      <td>4.6</td>\n",
       "      <td>5.0</td>\n",
       "      <td>0.40</td>\n",
       "      <td>60</td>\n",
       "    </tr>\n",
       "    <tr>\n",
       "      <th>3</th>\n",
       "      <td>4.1</td>\n",
       "      <td>2.0</td>\n",
       "      <td>0.27</td>\n",
       "      <td>50</td>\n",
       "    </tr>\n",
       "    <tr>\n",
       "      <th>4</th>\n",
       "      <td>4.2</td>\n",
       "      <td>2.0</td>\n",
       "      <td>0.31</td>\n",
       "      <td>15</td>\n",
       "    </tr>\n",
       "    <tr>\n",
       "      <th>7</th>\n",
       "      <td>4.5</td>\n",
       "      <td>2.0</td>\n",
       "      <td>1.50</td>\n",
       "      <td>35</td>\n",
       "    </tr>\n",
       "    <tr>\n",
       "      <th>...</th>\n",
       "      <td>...</td>\n",
       "      <td>...</td>\n",
       "      <td>...</td>\n",
       "      <td>...</td>\n",
       "    </tr>\n",
       "    <tr>\n",
       "      <th>318</th>\n",
       "      <td>4.4</td>\n",
       "      <td>2.0</td>\n",
       "      <td>0.24</td>\n",
       "      <td>50</td>\n",
       "    </tr>\n",
       "    <tr>\n",
       "      <th>321</th>\n",
       "      <td>4.5</td>\n",
       "      <td>2.0</td>\n",
       "      <td>1.30</td>\n",
       "      <td>40</td>\n",
       "    </tr>\n",
       "    <tr>\n",
       "      <th>322</th>\n",
       "      <td>4.7</td>\n",
       "      <td>2.0</td>\n",
       "      <td>0.15</td>\n",
       "      <td>10</td>\n",
       "    </tr>\n",
       "    <tr>\n",
       "      <th>323</th>\n",
       "      <td>4.4</td>\n",
       "      <td>2.0</td>\n",
       "      <td>0.51</td>\n",
       "      <td>200</td>\n",
       "    </tr>\n",
       "    <tr>\n",
       "      <th>324</th>\n",
       "      <td>4.5</td>\n",
       "      <td>2.0</td>\n",
       "      <td>0.63</td>\n",
       "      <td>200</td>\n",
       "    </tr>\n",
       "  </tbody>\n",
       "</table>\n",
       "<p>142 rows × 4 columns</p>\n",
       "</div>"
      ],
      "text/plain": [
       "     Google review rating  time needed to visit in hrs  \\\n",
       "1                     4.5                          2.0   \n",
       "2                     4.6                          5.0   \n",
       "3                     4.1                          2.0   \n",
       "4                     4.2                          2.0   \n",
       "7                     4.5                          2.0   \n",
       "..                    ...                          ...   \n",
       "318                   4.4                          2.0   \n",
       "321                   4.5                          2.0   \n",
       "322                   4.7                          2.0   \n",
       "323                   4.4                          2.0   \n",
       "324                   4.5                          2.0   \n",
       "\n",
       "     Number of google review in lakhs  Entrance Fee in INR  \n",
       "1                                0.40                   30  \n",
       "2                                0.40                   60  \n",
       "3                                0.27                   50  \n",
       "4                                0.31                   15  \n",
       "7                                1.50                   35  \n",
       "..                                ...                  ...  \n",
       "318                              0.24                   50  \n",
       "321                              1.30                   40  \n",
       "322                              0.15                   10  \n",
       "323                              0.51                  200  \n",
       "324                              0.63                  200  \n",
       "\n",
       "[142 rows x 4 columns]"
      ]
     },
     "execution_count": 267,
     "metadata": {},
     "output_type": "execute_result"
    }
   ],
   "source": [
    "newdf = topdf[(topdf['Entrance Fee in INR']!=0)]\n",
    "newdf"
   ]
  },
  {
   "cell_type": "code",
   "execution_count": null,
   "id": "f0c16aea",
   "metadata": {},
   "outputs": [],
   "source": []
  },
  {
   "cell_type": "code",
   "execution_count": null,
   "id": "32cc74cb",
   "metadata": {},
   "outputs": [],
   "source": []
  },
  {
   "cell_type": "code",
   "execution_count": 268,
   "id": "8b3810a4",
   "metadata": {},
   "outputs": [],
   "source": [
    "#newdf=pd.get_dummies(newdf,dtype=int)"
   ]
  },
  {
   "cell_type": "code",
   "execution_count": 269,
   "id": "9fffd615",
   "metadata": {},
   "outputs": [
    {
     "data": {
      "text/html": [
       "<div>\n",
       "<style scoped>\n",
       "    .dataframe tbody tr th:only-of-type {\n",
       "        vertical-align: middle;\n",
       "    }\n",
       "\n",
       "    .dataframe tbody tr th {\n",
       "        vertical-align: top;\n",
       "    }\n",
       "\n",
       "    .dataframe thead th {\n",
       "        text-align: right;\n",
       "    }\n",
       "</style>\n",
       "<table border=\"1\" class=\"dataframe\">\n",
       "  <thead>\n",
       "    <tr style=\"text-align: right;\">\n",
       "      <th></th>\n",
       "      <th>Google review rating</th>\n",
       "      <th>time needed to visit in hrs</th>\n",
       "      <th>Number of google review in lakhs</th>\n",
       "      <th>Entrance Fee in INR</th>\n",
       "    </tr>\n",
       "  </thead>\n",
       "  <tbody>\n",
       "    <tr>\n",
       "      <th>1</th>\n",
       "      <td>4.5</td>\n",
       "      <td>2.0</td>\n",
       "      <td>0.40</td>\n",
       "      <td>30</td>\n",
       "    </tr>\n",
       "    <tr>\n",
       "      <th>2</th>\n",
       "      <td>4.6</td>\n",
       "      <td>5.0</td>\n",
       "      <td>0.40</td>\n",
       "      <td>60</td>\n",
       "    </tr>\n",
       "    <tr>\n",
       "      <th>3</th>\n",
       "      <td>4.1</td>\n",
       "      <td>2.0</td>\n",
       "      <td>0.27</td>\n",
       "      <td>50</td>\n",
       "    </tr>\n",
       "    <tr>\n",
       "      <th>4</th>\n",
       "      <td>4.2</td>\n",
       "      <td>2.0</td>\n",
       "      <td>0.31</td>\n",
       "      <td>15</td>\n",
       "    </tr>\n",
       "    <tr>\n",
       "      <th>7</th>\n",
       "      <td>4.5</td>\n",
       "      <td>2.0</td>\n",
       "      <td>1.50</td>\n",
       "      <td>35</td>\n",
       "    </tr>\n",
       "    <tr>\n",
       "      <th>...</th>\n",
       "      <td>...</td>\n",
       "      <td>...</td>\n",
       "      <td>...</td>\n",
       "      <td>...</td>\n",
       "    </tr>\n",
       "    <tr>\n",
       "      <th>318</th>\n",
       "      <td>4.4</td>\n",
       "      <td>2.0</td>\n",
       "      <td>0.24</td>\n",
       "      <td>50</td>\n",
       "    </tr>\n",
       "    <tr>\n",
       "      <th>321</th>\n",
       "      <td>4.5</td>\n",
       "      <td>2.0</td>\n",
       "      <td>1.30</td>\n",
       "      <td>40</td>\n",
       "    </tr>\n",
       "    <tr>\n",
       "      <th>322</th>\n",
       "      <td>4.7</td>\n",
       "      <td>2.0</td>\n",
       "      <td>0.15</td>\n",
       "      <td>10</td>\n",
       "    </tr>\n",
       "    <tr>\n",
       "      <th>323</th>\n",
       "      <td>4.4</td>\n",
       "      <td>2.0</td>\n",
       "      <td>0.51</td>\n",
       "      <td>200</td>\n",
       "    </tr>\n",
       "    <tr>\n",
       "      <th>324</th>\n",
       "      <td>4.5</td>\n",
       "      <td>2.0</td>\n",
       "      <td>0.63</td>\n",
       "      <td>200</td>\n",
       "    </tr>\n",
       "  </tbody>\n",
       "</table>\n",
       "<p>142 rows × 4 columns</p>\n",
       "</div>"
      ],
      "text/plain": [
       "     Google review rating  time needed to visit in hrs  \\\n",
       "1                     4.5                          2.0   \n",
       "2                     4.6                          5.0   \n",
       "3                     4.1                          2.0   \n",
       "4                     4.2                          2.0   \n",
       "7                     4.5                          2.0   \n",
       "..                    ...                          ...   \n",
       "318                   4.4                          2.0   \n",
       "321                   4.5                          2.0   \n",
       "322                   4.7                          2.0   \n",
       "323                   4.4                          2.0   \n",
       "324                   4.5                          2.0   \n",
       "\n",
       "     Number of google review in lakhs  Entrance Fee in INR  \n",
       "1                                0.40                   30  \n",
       "2                                0.40                   60  \n",
       "3                                0.27                   50  \n",
       "4                                0.31                   15  \n",
       "7                                1.50                   35  \n",
       "..                                ...                  ...  \n",
       "318                              0.24                   50  \n",
       "321                              1.30                   40  \n",
       "322                              0.15                   10  \n",
       "323                              0.51                  200  \n",
       "324                              0.63                  200  \n",
       "\n",
       "[142 rows x 4 columns]"
      ]
     },
     "execution_count": 269,
     "metadata": {},
     "output_type": "execute_result"
    }
   ],
   "source": [
    "newdf"
   ]
  },
  {
   "cell_type": "code",
   "execution_count": 270,
   "id": "38df221a",
   "metadata": {},
   "outputs": [
    {
     "data": {
      "text/plain": [
       "1       30\n",
       "2       60\n",
       "3       50\n",
       "4       15\n",
       "7       35\n",
       "      ... \n",
       "318     50\n",
       "321     40\n",
       "322     10\n",
       "323    200\n",
       "324    200\n",
       "Name: Entrance Fee in INR, Length: 142, dtype: int64"
      ]
     },
     "execution_count": 270,
     "metadata": {},
     "output_type": "execute_result"
    }
   ],
   "source": [
    "x=newdf.drop(columns=['Entrance Fee in INR'])\n",
    "y=newdf['Entrance Fee in INR']\n",
    "y"
   ]
  },
  {
   "cell_type": "code",
   "execution_count": 271,
   "id": "d8b001d4",
   "metadata": {},
   "outputs": [],
   "source": [
    "from sklearn.linear_model import LinearRegression\n",
    "from sklearn.model_selection import train_test_split"
   ]
  },
  {
   "cell_type": "code",
   "execution_count": 272,
   "id": "75e3857e",
   "metadata": {},
   "outputs": [],
   "source": [
    "x_train,x_test,y_train,y_test=train_test_split(x,y,test_size=0.10)\n"
   ]
  },
  {
   "cell_type": "code",
   "execution_count": 273,
   "id": "4ba46673",
   "metadata": {},
   "outputs": [
    {
     "data": {
      "text/html": [
       "<style>#sk-container-id-30 {color: black;}#sk-container-id-30 pre{padding: 0;}#sk-container-id-30 div.sk-toggleable {background-color: white;}#sk-container-id-30 label.sk-toggleable__label {cursor: pointer;display: block;width: 100%;margin-bottom: 0;padding: 0.3em;box-sizing: border-box;text-align: center;}#sk-container-id-30 label.sk-toggleable__label-arrow:before {content: \"▸\";float: left;margin-right: 0.25em;color: #696969;}#sk-container-id-30 label.sk-toggleable__label-arrow:hover:before {color: black;}#sk-container-id-30 div.sk-estimator:hover label.sk-toggleable__label-arrow:before {color: black;}#sk-container-id-30 div.sk-toggleable__content {max-height: 0;max-width: 0;overflow: hidden;text-align: left;background-color: #f0f8ff;}#sk-container-id-30 div.sk-toggleable__content pre {margin: 0.2em;color: black;border-radius: 0.25em;background-color: #f0f8ff;}#sk-container-id-30 input.sk-toggleable__control:checked~div.sk-toggleable__content {max-height: 200px;max-width: 100%;overflow: auto;}#sk-container-id-30 input.sk-toggleable__control:checked~label.sk-toggleable__label-arrow:before {content: \"▾\";}#sk-container-id-30 div.sk-estimator input.sk-toggleable__control:checked~label.sk-toggleable__label {background-color: #d4ebff;}#sk-container-id-30 div.sk-label input.sk-toggleable__control:checked~label.sk-toggleable__label {background-color: #d4ebff;}#sk-container-id-30 input.sk-hidden--visually {border: 0;clip: rect(1px 1px 1px 1px);clip: rect(1px, 1px, 1px, 1px);height: 1px;margin: -1px;overflow: hidden;padding: 0;position: absolute;width: 1px;}#sk-container-id-30 div.sk-estimator {font-family: monospace;background-color: #f0f8ff;border: 1px dotted black;border-radius: 0.25em;box-sizing: border-box;margin-bottom: 0.5em;}#sk-container-id-30 div.sk-estimator:hover {background-color: #d4ebff;}#sk-container-id-30 div.sk-parallel-item::after {content: \"\";width: 100%;border-bottom: 1px solid gray;flex-grow: 1;}#sk-container-id-30 div.sk-label:hover label.sk-toggleable__label {background-color: #d4ebff;}#sk-container-id-30 div.sk-serial::before {content: \"\";position: absolute;border-left: 1px solid gray;box-sizing: border-box;top: 0;bottom: 0;left: 50%;z-index: 0;}#sk-container-id-30 div.sk-serial {display: flex;flex-direction: column;align-items: center;background-color: white;padding-right: 0.2em;padding-left: 0.2em;position: relative;}#sk-container-id-30 div.sk-item {position: relative;z-index: 1;}#sk-container-id-30 div.sk-parallel {display: flex;align-items: stretch;justify-content: center;background-color: white;position: relative;}#sk-container-id-30 div.sk-item::before, #sk-container-id-30 div.sk-parallel-item::before {content: \"\";position: absolute;border-left: 1px solid gray;box-sizing: border-box;top: 0;bottom: 0;left: 50%;z-index: -1;}#sk-container-id-30 div.sk-parallel-item {display: flex;flex-direction: column;z-index: 1;position: relative;background-color: white;}#sk-container-id-30 div.sk-parallel-item:first-child::after {align-self: flex-end;width: 50%;}#sk-container-id-30 div.sk-parallel-item:last-child::after {align-self: flex-start;width: 50%;}#sk-container-id-30 div.sk-parallel-item:only-child::after {width: 0;}#sk-container-id-30 div.sk-dashed-wrapped {border: 1px dashed gray;margin: 0 0.4em 0.5em 0.4em;box-sizing: border-box;padding-bottom: 0.4em;background-color: white;}#sk-container-id-30 div.sk-label label {font-family: monospace;font-weight: bold;display: inline-block;line-height: 1.2em;}#sk-container-id-30 div.sk-label-container {text-align: center;}#sk-container-id-30 div.sk-container {/* jupyter's `normalize.less` sets `[hidden] { display: none; }` but bootstrap.min.css set `[hidden] { display: none !important; }` so we also need the `!important` here to be able to override the default hidden behavior on the sphinx rendered scikit-learn.org. See: https://github.com/scikit-learn/scikit-learn/issues/21755 */display: inline-block !important;position: relative;}#sk-container-id-30 div.sk-text-repr-fallback {display: none;}</style><div id=\"sk-container-id-30\" class=\"sk-top-container\"><div class=\"sk-text-repr-fallback\"><pre>LinearRegression()</pre><b>In a Jupyter environment, please rerun this cell to show the HTML representation or trust the notebook. <br />On GitHub, the HTML representation is unable to render, please try loading this page with nbviewer.org.</b></div><div class=\"sk-container\" hidden><div class=\"sk-item\"><div class=\"sk-estimator sk-toggleable\"><input class=\"sk-toggleable__control sk-hidden--visually\" id=\"sk-estimator-id-30\" type=\"checkbox\" checked><label for=\"sk-estimator-id-30\" class=\"sk-toggleable__label sk-toggleable__label-arrow\">LinearRegression</label><div class=\"sk-toggleable__content\"><pre>LinearRegression()</pre></div></div></div></div></div>"
      ],
      "text/plain": [
       "LinearRegression()"
      ]
     },
     "execution_count": 273,
     "metadata": {},
     "output_type": "execute_result"
    }
   ],
   "source": [
    "LinModel=LinearRegression()\n",
    "LinModel.fit(x_train,y_train)"
   ]
  },
  {
   "cell_type": "code",
   "execution_count": 274,
   "id": "e962936a",
   "metadata": {},
   "outputs": [
    {
     "data": {
      "text/plain": [
       "array([ 255.44776182, -767.74801588,  266.69345171,  189.27075757,\n",
       "       -338.18571846,  499.09467326,  103.84838871,  391.18092462,\n",
       "        200.51644746,   36.42544993,  540.80614129,   28.75393191,\n",
       "        187.01442874,  109.71484366,  246.007135  ])"
      ]
     },
     "execution_count": 274,
     "metadata": {},
     "output_type": "execute_result"
    }
   ],
   "source": [
    "LinModel.predict(x_test)"
   ]
  },
  {
   "cell_type": "code",
   "execution_count": 275,
   "id": "077621c4",
   "metadata": {},
   "outputs": [
    {
     "data": {
      "text/plain": [
       "-2.4557835769198286"
      ]
     },
     "execution_count": 275,
     "metadata": {},
     "output_type": "execute_result"
    }
   ],
   "source": [
    "LinModel.score(x_test,y_test)"
   ]
  },
  {
   "cell_type": "code",
   "execution_count": 276,
   "id": "8fd0634e",
   "metadata": {},
   "outputs": [
    {
     "data": {
      "text/plain": [
       "0.09035102431540287"
      ]
     },
     "execution_count": 276,
     "metadata": {},
     "output_type": "execute_result"
    }
   ],
   "source": [
    "LinModel.score(x_train,y_train)"
   ]
  },
  {
   "cell_type": "markdown",
   "id": "ed432fd8",
   "metadata": {},
   "source": [
    "# Logistic"
   ]
  },
  {
   "cell_type": "code",
   "execution_count": 277,
   "id": "0f0a2582",
   "metadata": {},
   "outputs": [],
   "source": [
    "from sklearn.linear_model import LogisticRegression"
   ]
  },
  {
   "cell_type": "code",
   "execution_count": 278,
   "id": "8fe15ec8",
   "metadata": {},
   "outputs": [
    {
     "data": {
      "text/html": [
       "<style>#sk-container-id-31 {color: black;}#sk-container-id-31 pre{padding: 0;}#sk-container-id-31 div.sk-toggleable {background-color: white;}#sk-container-id-31 label.sk-toggleable__label {cursor: pointer;display: block;width: 100%;margin-bottom: 0;padding: 0.3em;box-sizing: border-box;text-align: center;}#sk-container-id-31 label.sk-toggleable__label-arrow:before {content: \"▸\";float: left;margin-right: 0.25em;color: #696969;}#sk-container-id-31 label.sk-toggleable__label-arrow:hover:before {color: black;}#sk-container-id-31 div.sk-estimator:hover label.sk-toggleable__label-arrow:before {color: black;}#sk-container-id-31 div.sk-toggleable__content {max-height: 0;max-width: 0;overflow: hidden;text-align: left;background-color: #f0f8ff;}#sk-container-id-31 div.sk-toggleable__content pre {margin: 0.2em;color: black;border-radius: 0.25em;background-color: #f0f8ff;}#sk-container-id-31 input.sk-toggleable__control:checked~div.sk-toggleable__content {max-height: 200px;max-width: 100%;overflow: auto;}#sk-container-id-31 input.sk-toggleable__control:checked~label.sk-toggleable__label-arrow:before {content: \"▾\";}#sk-container-id-31 div.sk-estimator input.sk-toggleable__control:checked~label.sk-toggleable__label {background-color: #d4ebff;}#sk-container-id-31 div.sk-label input.sk-toggleable__control:checked~label.sk-toggleable__label {background-color: #d4ebff;}#sk-container-id-31 input.sk-hidden--visually {border: 0;clip: rect(1px 1px 1px 1px);clip: rect(1px, 1px, 1px, 1px);height: 1px;margin: -1px;overflow: hidden;padding: 0;position: absolute;width: 1px;}#sk-container-id-31 div.sk-estimator {font-family: monospace;background-color: #f0f8ff;border: 1px dotted black;border-radius: 0.25em;box-sizing: border-box;margin-bottom: 0.5em;}#sk-container-id-31 div.sk-estimator:hover {background-color: #d4ebff;}#sk-container-id-31 div.sk-parallel-item::after {content: \"\";width: 100%;border-bottom: 1px solid gray;flex-grow: 1;}#sk-container-id-31 div.sk-label:hover label.sk-toggleable__label {background-color: #d4ebff;}#sk-container-id-31 div.sk-serial::before {content: \"\";position: absolute;border-left: 1px solid gray;box-sizing: border-box;top: 0;bottom: 0;left: 50%;z-index: 0;}#sk-container-id-31 div.sk-serial {display: flex;flex-direction: column;align-items: center;background-color: white;padding-right: 0.2em;padding-left: 0.2em;position: relative;}#sk-container-id-31 div.sk-item {position: relative;z-index: 1;}#sk-container-id-31 div.sk-parallel {display: flex;align-items: stretch;justify-content: center;background-color: white;position: relative;}#sk-container-id-31 div.sk-item::before, #sk-container-id-31 div.sk-parallel-item::before {content: \"\";position: absolute;border-left: 1px solid gray;box-sizing: border-box;top: 0;bottom: 0;left: 50%;z-index: -1;}#sk-container-id-31 div.sk-parallel-item {display: flex;flex-direction: column;z-index: 1;position: relative;background-color: white;}#sk-container-id-31 div.sk-parallel-item:first-child::after {align-self: flex-end;width: 50%;}#sk-container-id-31 div.sk-parallel-item:last-child::after {align-self: flex-start;width: 50%;}#sk-container-id-31 div.sk-parallel-item:only-child::after {width: 0;}#sk-container-id-31 div.sk-dashed-wrapped {border: 1px dashed gray;margin: 0 0.4em 0.5em 0.4em;box-sizing: border-box;padding-bottom: 0.4em;background-color: white;}#sk-container-id-31 div.sk-label label {font-family: monospace;font-weight: bold;display: inline-block;line-height: 1.2em;}#sk-container-id-31 div.sk-label-container {text-align: center;}#sk-container-id-31 div.sk-container {/* jupyter's `normalize.less` sets `[hidden] { display: none; }` but bootstrap.min.css set `[hidden] { display: none !important; }` so we also need the `!important` here to be able to override the default hidden behavior on the sphinx rendered scikit-learn.org. See: https://github.com/scikit-learn/scikit-learn/issues/21755 */display: inline-block !important;position: relative;}#sk-container-id-31 div.sk-text-repr-fallback {display: none;}</style><div id=\"sk-container-id-31\" class=\"sk-top-container\"><div class=\"sk-text-repr-fallback\"><pre>LogisticRegression()</pre><b>In a Jupyter environment, please rerun this cell to show the HTML representation or trust the notebook. <br />On GitHub, the HTML representation is unable to render, please try loading this page with nbviewer.org.</b></div><div class=\"sk-container\" hidden><div class=\"sk-item\"><div class=\"sk-estimator sk-toggleable\"><input class=\"sk-toggleable__control sk-hidden--visually\" id=\"sk-estimator-id-31\" type=\"checkbox\" checked><label for=\"sk-estimator-id-31\" class=\"sk-toggleable__label sk-toggleable__label-arrow\">LogisticRegression</label><div class=\"sk-toggleable__content\"><pre>LogisticRegression()</pre></div></div></div></div></div>"
      ],
      "text/plain": [
       "LogisticRegression()"
      ]
     },
     "execution_count": 278,
     "metadata": {},
     "output_type": "execute_result"
    }
   ],
   "source": [
    "LogModel=LogisticRegression()\n",
    "LogModel.fit(x_train,y_train)"
   ]
  },
  {
   "cell_type": "code",
   "execution_count": 279,
   "id": "d841bb38",
   "metadata": {},
   "outputs": [
    {
     "data": {
      "text/plain": [
       "array([50, 50, 50, 20, 20, 50, 20, 50, 20, 50, 50, 50, 20, 20, 50],\n",
       "      dtype=int64)"
      ]
     },
     "execution_count": 279,
     "metadata": {},
     "output_type": "execute_result"
    }
   ],
   "source": [
    "LogModel.predict(x_test)"
   ]
  },
  {
   "cell_type": "code",
   "execution_count": 280,
   "id": "319efbf8",
   "metadata": {},
   "outputs": [
    {
     "data": {
      "text/plain": [
       "0.2"
      ]
     },
     "execution_count": 280,
     "metadata": {},
     "output_type": "execute_result"
    }
   ],
   "source": [
    "LogModel.score(x_test,y_test)"
   ]
  },
  {
   "cell_type": "code",
   "execution_count": 281,
   "id": "f4978418",
   "metadata": {},
   "outputs": [
    {
     "data": {
      "text/plain": [
       "0.1968503937007874"
      ]
     },
     "execution_count": 281,
     "metadata": {},
     "output_type": "execute_result"
    }
   ],
   "source": [
    "LogModel.score(x_train,y_train)"
   ]
  },
  {
   "cell_type": "markdown",
   "id": "519aa59a",
   "metadata": {},
   "source": [
    "# Lasso"
   ]
  },
  {
   "cell_type": "code",
   "execution_count": 282,
   "id": "ab876e01",
   "metadata": {},
   "outputs": [
    {
     "data": {
      "text/html": [
       "<style>#sk-container-id-32 {color: black;}#sk-container-id-32 pre{padding: 0;}#sk-container-id-32 div.sk-toggleable {background-color: white;}#sk-container-id-32 label.sk-toggleable__label {cursor: pointer;display: block;width: 100%;margin-bottom: 0;padding: 0.3em;box-sizing: border-box;text-align: center;}#sk-container-id-32 label.sk-toggleable__label-arrow:before {content: \"▸\";float: left;margin-right: 0.25em;color: #696969;}#sk-container-id-32 label.sk-toggleable__label-arrow:hover:before {color: black;}#sk-container-id-32 div.sk-estimator:hover label.sk-toggleable__label-arrow:before {color: black;}#sk-container-id-32 div.sk-toggleable__content {max-height: 0;max-width: 0;overflow: hidden;text-align: left;background-color: #f0f8ff;}#sk-container-id-32 div.sk-toggleable__content pre {margin: 0.2em;color: black;border-radius: 0.25em;background-color: #f0f8ff;}#sk-container-id-32 input.sk-toggleable__control:checked~div.sk-toggleable__content {max-height: 200px;max-width: 100%;overflow: auto;}#sk-container-id-32 input.sk-toggleable__control:checked~label.sk-toggleable__label-arrow:before {content: \"▾\";}#sk-container-id-32 div.sk-estimator input.sk-toggleable__control:checked~label.sk-toggleable__label {background-color: #d4ebff;}#sk-container-id-32 div.sk-label input.sk-toggleable__control:checked~label.sk-toggleable__label {background-color: #d4ebff;}#sk-container-id-32 input.sk-hidden--visually {border: 0;clip: rect(1px 1px 1px 1px);clip: rect(1px, 1px, 1px, 1px);height: 1px;margin: -1px;overflow: hidden;padding: 0;position: absolute;width: 1px;}#sk-container-id-32 div.sk-estimator {font-family: monospace;background-color: #f0f8ff;border: 1px dotted black;border-radius: 0.25em;box-sizing: border-box;margin-bottom: 0.5em;}#sk-container-id-32 div.sk-estimator:hover {background-color: #d4ebff;}#sk-container-id-32 div.sk-parallel-item::after {content: \"\";width: 100%;border-bottom: 1px solid gray;flex-grow: 1;}#sk-container-id-32 div.sk-label:hover label.sk-toggleable__label {background-color: #d4ebff;}#sk-container-id-32 div.sk-serial::before {content: \"\";position: absolute;border-left: 1px solid gray;box-sizing: border-box;top: 0;bottom: 0;left: 50%;z-index: 0;}#sk-container-id-32 div.sk-serial {display: flex;flex-direction: column;align-items: center;background-color: white;padding-right: 0.2em;padding-left: 0.2em;position: relative;}#sk-container-id-32 div.sk-item {position: relative;z-index: 1;}#sk-container-id-32 div.sk-parallel {display: flex;align-items: stretch;justify-content: center;background-color: white;position: relative;}#sk-container-id-32 div.sk-item::before, #sk-container-id-32 div.sk-parallel-item::before {content: \"\";position: absolute;border-left: 1px solid gray;box-sizing: border-box;top: 0;bottom: 0;left: 50%;z-index: -1;}#sk-container-id-32 div.sk-parallel-item {display: flex;flex-direction: column;z-index: 1;position: relative;background-color: white;}#sk-container-id-32 div.sk-parallel-item:first-child::after {align-self: flex-end;width: 50%;}#sk-container-id-32 div.sk-parallel-item:last-child::after {align-self: flex-start;width: 50%;}#sk-container-id-32 div.sk-parallel-item:only-child::after {width: 0;}#sk-container-id-32 div.sk-dashed-wrapped {border: 1px dashed gray;margin: 0 0.4em 0.5em 0.4em;box-sizing: border-box;padding-bottom: 0.4em;background-color: white;}#sk-container-id-32 div.sk-label label {font-family: monospace;font-weight: bold;display: inline-block;line-height: 1.2em;}#sk-container-id-32 div.sk-label-container {text-align: center;}#sk-container-id-32 div.sk-container {/* jupyter's `normalize.less` sets `[hidden] { display: none; }` but bootstrap.min.css set `[hidden] { display: none !important; }` so we also need the `!important` here to be able to override the default hidden behavior on the sphinx rendered scikit-learn.org. See: https://github.com/scikit-learn/scikit-learn/issues/21755 */display: inline-block !important;position: relative;}#sk-container-id-32 div.sk-text-repr-fallback {display: none;}</style><div id=\"sk-container-id-32\" class=\"sk-top-container\"><div class=\"sk-text-repr-fallback\"><pre>Lasso(alpha=15, max_iter=150, tol=0.1)</pre><b>In a Jupyter environment, please rerun this cell to show the HTML representation or trust the notebook. <br />On GitHub, the HTML representation is unable to render, please try loading this page with nbviewer.org.</b></div><div class=\"sk-container\" hidden><div class=\"sk-item\"><div class=\"sk-estimator sk-toggleable\"><input class=\"sk-toggleable__control sk-hidden--visually\" id=\"sk-estimator-id-32\" type=\"checkbox\" checked><label for=\"sk-estimator-id-32\" class=\"sk-toggleable__label sk-toggleable__label-arrow\">Lasso</label><div class=\"sk-toggleable__content\"><pre>Lasso(alpha=15, max_iter=150, tol=0.1)</pre></div></div></div></div></div>"
      ],
      "text/plain": [
       "Lasso(alpha=15, max_iter=150, tol=0.1)"
      ]
     },
     "execution_count": 282,
     "metadata": {},
     "output_type": "execute_result"
    }
   ],
   "source": [
    "from sklearn.linear_model import Lasso\n",
    "reg=Lasso(alpha=15,max_iter=150,tol=0.1)\n",
    "reg.fit(x_train,y_train)"
   ]
  },
  {
   "cell_type": "code",
   "execution_count": 283,
   "id": "cb5779dd",
   "metadata": {},
   "outputs": [
    {
     "data": {
      "text/plain": [
       "array([305.38664433, 309.49004856, 248.27416022, 217.60999874,\n",
       "       -69.25788623, 436.82271546,  70.09667656, 403.53436151,\n",
       "       160.49751462, 173.06976955, 477.33693686, 168.48631307,\n",
       "       216.2619233 ,  73.60167269, 363.57758879])"
      ]
     },
     "execution_count": 283,
     "metadata": {},
     "output_type": "execute_result"
    }
   ],
   "source": [
    "reg.predict(x_test)"
   ]
  },
  {
   "cell_type": "code",
   "execution_count": 284,
   "id": "5a7c69be",
   "metadata": {},
   "outputs": [
    {
     "data": {
      "text/plain": [
       "-0.0003804181977140608"
      ]
     },
     "execution_count": 284,
     "metadata": {},
     "output_type": "execute_result"
    }
   ],
   "source": [
    "reg.score(x_test,y_test)"
   ]
  },
  {
   "cell_type": "code",
   "execution_count": 285,
   "id": "db21d259",
   "metadata": {},
   "outputs": [
    {
     "data": {
      "text/plain": [
       "0.08119120990511164"
      ]
     },
     "execution_count": 285,
     "metadata": {},
     "output_type": "execute_result"
    }
   ],
   "source": [
    "reg.score(x_train,y_train)"
   ]
  },
  {
   "cell_type": "code",
   "execution_count": 286,
   "id": "f21a4799",
   "metadata": {},
   "outputs": [
    {
     "data": {
      "text/html": [
       "<style>#sk-container-id-33 {color: black;}#sk-container-id-33 pre{padding: 0;}#sk-container-id-33 div.sk-toggleable {background-color: white;}#sk-container-id-33 label.sk-toggleable__label {cursor: pointer;display: block;width: 100%;margin-bottom: 0;padding: 0.3em;box-sizing: border-box;text-align: center;}#sk-container-id-33 label.sk-toggleable__label-arrow:before {content: \"▸\";float: left;margin-right: 0.25em;color: #696969;}#sk-container-id-33 label.sk-toggleable__label-arrow:hover:before {color: black;}#sk-container-id-33 div.sk-estimator:hover label.sk-toggleable__label-arrow:before {color: black;}#sk-container-id-33 div.sk-toggleable__content {max-height: 0;max-width: 0;overflow: hidden;text-align: left;background-color: #f0f8ff;}#sk-container-id-33 div.sk-toggleable__content pre {margin: 0.2em;color: black;border-radius: 0.25em;background-color: #f0f8ff;}#sk-container-id-33 input.sk-toggleable__control:checked~div.sk-toggleable__content {max-height: 200px;max-width: 100%;overflow: auto;}#sk-container-id-33 input.sk-toggleable__control:checked~label.sk-toggleable__label-arrow:before {content: \"▾\";}#sk-container-id-33 div.sk-estimator input.sk-toggleable__control:checked~label.sk-toggleable__label {background-color: #d4ebff;}#sk-container-id-33 div.sk-label input.sk-toggleable__control:checked~label.sk-toggleable__label {background-color: #d4ebff;}#sk-container-id-33 input.sk-hidden--visually {border: 0;clip: rect(1px 1px 1px 1px);clip: rect(1px, 1px, 1px, 1px);height: 1px;margin: -1px;overflow: hidden;padding: 0;position: absolute;width: 1px;}#sk-container-id-33 div.sk-estimator {font-family: monospace;background-color: #f0f8ff;border: 1px dotted black;border-radius: 0.25em;box-sizing: border-box;margin-bottom: 0.5em;}#sk-container-id-33 div.sk-estimator:hover {background-color: #d4ebff;}#sk-container-id-33 div.sk-parallel-item::after {content: \"\";width: 100%;border-bottom: 1px solid gray;flex-grow: 1;}#sk-container-id-33 div.sk-label:hover label.sk-toggleable__label {background-color: #d4ebff;}#sk-container-id-33 div.sk-serial::before {content: \"\";position: absolute;border-left: 1px solid gray;box-sizing: border-box;top: 0;bottom: 0;left: 50%;z-index: 0;}#sk-container-id-33 div.sk-serial {display: flex;flex-direction: column;align-items: center;background-color: white;padding-right: 0.2em;padding-left: 0.2em;position: relative;}#sk-container-id-33 div.sk-item {position: relative;z-index: 1;}#sk-container-id-33 div.sk-parallel {display: flex;align-items: stretch;justify-content: center;background-color: white;position: relative;}#sk-container-id-33 div.sk-item::before, #sk-container-id-33 div.sk-parallel-item::before {content: \"\";position: absolute;border-left: 1px solid gray;box-sizing: border-box;top: 0;bottom: 0;left: 50%;z-index: -1;}#sk-container-id-33 div.sk-parallel-item {display: flex;flex-direction: column;z-index: 1;position: relative;background-color: white;}#sk-container-id-33 div.sk-parallel-item:first-child::after {align-self: flex-end;width: 50%;}#sk-container-id-33 div.sk-parallel-item:last-child::after {align-self: flex-start;width: 50%;}#sk-container-id-33 div.sk-parallel-item:only-child::after {width: 0;}#sk-container-id-33 div.sk-dashed-wrapped {border: 1px dashed gray;margin: 0 0.4em 0.5em 0.4em;box-sizing: border-box;padding-bottom: 0.4em;background-color: white;}#sk-container-id-33 div.sk-label label {font-family: monospace;font-weight: bold;display: inline-block;line-height: 1.2em;}#sk-container-id-33 div.sk-label-container {text-align: center;}#sk-container-id-33 div.sk-container {/* jupyter's `normalize.less` sets `[hidden] { display: none; }` but bootstrap.min.css set `[hidden] { display: none !important; }` so we also need the `!important` here to be able to override the default hidden behavior on the sphinx rendered scikit-learn.org. See: https://github.com/scikit-learn/scikit-learn/issues/21755 */display: inline-block !important;position: relative;}#sk-container-id-33 div.sk-text-repr-fallback {display: none;}</style><div id=\"sk-container-id-33\" class=\"sk-top-container\"><div class=\"sk-text-repr-fallback\"><pre>Ridge(alpha=25, max_iter=150, tol=0.5)</pre><b>In a Jupyter environment, please rerun this cell to show the HTML representation or trust the notebook. <br />On GitHub, the HTML representation is unable to render, please try loading this page with nbviewer.org.</b></div><div class=\"sk-container\" hidden><div class=\"sk-item\"><div class=\"sk-estimator sk-toggleable\"><input class=\"sk-toggleable__control sk-hidden--visually\" id=\"sk-estimator-id-33\" type=\"checkbox\" checked><label for=\"sk-estimator-id-33\" class=\"sk-toggleable__label sk-toggleable__label-arrow\">Ridge</label><div class=\"sk-toggleable__content\"><pre>Ridge(alpha=25, max_iter=150, tol=0.5)</pre></div></div></div></div></div>"
      ],
      "text/plain": [
       "Ridge(alpha=25, max_iter=150, tol=0.5)"
      ]
     },
     "execution_count": 286,
     "metadata": {},
     "output_type": "execute_result"
    }
   ],
   "source": [
    "from sklearn.linear_model import Ridge\n",
    "reg3=Ridge(alpha=25,max_iter=150,tol=0.5)\n",
    "reg3.fit(x_train,y_train)"
   ]
  },
  {
   "cell_type": "code",
   "execution_count": 287,
   "id": "7e0e8367",
   "metadata": {},
   "outputs": [
    {
     "data": {
      "text/plain": [
       "array([312.1435559 , 497.28275765, 249.62834649, 219.93646514,\n",
       "        -7.70271931, 408.56516597,  76.1827363 , 389.84185595,\n",
       "       157.42125573, 199.67081792, 482.08827988, 193.02439777,\n",
       "       217.98163569,  81.26529288, 376.22262888])"
      ]
     },
     "execution_count": 287,
     "metadata": {},
     "output_type": "execute_result"
    }
   ],
   "source": [
    "reg3.predict(x_test)"
   ]
  },
  {
   "cell_type": "code",
   "execution_count": 288,
   "id": "91ae8e94",
   "metadata": {},
   "outputs": [
    {
     "data": {
      "text/plain": [
       "0.07682249212600345"
      ]
     },
     "execution_count": 288,
     "metadata": {},
     "output_type": "execute_result"
    }
   ],
   "source": [
    "reg3.score(x_train,y_train)"
   ]
  },
  {
   "cell_type": "code",
   "execution_count": 289,
   "id": "e2325ecd",
   "metadata": {},
   "outputs": [
    {
     "data": {
      "text/plain": [
       "0.22551369723168158"
      ]
     },
     "execution_count": 289,
     "metadata": {},
     "output_type": "execute_result"
    }
   ],
   "source": [
    "reg3.score(x_test,y_test)"
   ]
  },
  {
   "cell_type": "markdown",
   "id": "4e8c71fa",
   "metadata": {},
   "source": [
    "# decision tree"
   ]
  },
  {
   "cell_type": "code",
   "execution_count": 290,
   "id": "74e3d810",
   "metadata": {},
   "outputs": [],
   "source": [
    "from sklearn.tree import DecisionTreeClassifier"
   ]
  },
  {
   "cell_type": "code",
   "execution_count": 291,
   "id": "f262d92f",
   "metadata": {},
   "outputs": [
    {
     "data": {
      "text/html": [
       "<style>#sk-container-id-34 {color: black;}#sk-container-id-34 pre{padding: 0;}#sk-container-id-34 div.sk-toggleable {background-color: white;}#sk-container-id-34 label.sk-toggleable__label {cursor: pointer;display: block;width: 100%;margin-bottom: 0;padding: 0.3em;box-sizing: border-box;text-align: center;}#sk-container-id-34 label.sk-toggleable__label-arrow:before {content: \"▸\";float: left;margin-right: 0.25em;color: #696969;}#sk-container-id-34 label.sk-toggleable__label-arrow:hover:before {color: black;}#sk-container-id-34 div.sk-estimator:hover label.sk-toggleable__label-arrow:before {color: black;}#sk-container-id-34 div.sk-toggleable__content {max-height: 0;max-width: 0;overflow: hidden;text-align: left;background-color: #f0f8ff;}#sk-container-id-34 div.sk-toggleable__content pre {margin: 0.2em;color: black;border-radius: 0.25em;background-color: #f0f8ff;}#sk-container-id-34 input.sk-toggleable__control:checked~div.sk-toggleable__content {max-height: 200px;max-width: 100%;overflow: auto;}#sk-container-id-34 input.sk-toggleable__control:checked~label.sk-toggleable__label-arrow:before {content: \"▾\";}#sk-container-id-34 div.sk-estimator input.sk-toggleable__control:checked~label.sk-toggleable__label {background-color: #d4ebff;}#sk-container-id-34 div.sk-label input.sk-toggleable__control:checked~label.sk-toggleable__label {background-color: #d4ebff;}#sk-container-id-34 input.sk-hidden--visually {border: 0;clip: rect(1px 1px 1px 1px);clip: rect(1px, 1px, 1px, 1px);height: 1px;margin: -1px;overflow: hidden;padding: 0;position: absolute;width: 1px;}#sk-container-id-34 div.sk-estimator {font-family: monospace;background-color: #f0f8ff;border: 1px dotted black;border-radius: 0.25em;box-sizing: border-box;margin-bottom: 0.5em;}#sk-container-id-34 div.sk-estimator:hover {background-color: #d4ebff;}#sk-container-id-34 div.sk-parallel-item::after {content: \"\";width: 100%;border-bottom: 1px solid gray;flex-grow: 1;}#sk-container-id-34 div.sk-label:hover label.sk-toggleable__label {background-color: #d4ebff;}#sk-container-id-34 div.sk-serial::before {content: \"\";position: absolute;border-left: 1px solid gray;box-sizing: border-box;top: 0;bottom: 0;left: 50%;z-index: 0;}#sk-container-id-34 div.sk-serial {display: flex;flex-direction: column;align-items: center;background-color: white;padding-right: 0.2em;padding-left: 0.2em;position: relative;}#sk-container-id-34 div.sk-item {position: relative;z-index: 1;}#sk-container-id-34 div.sk-parallel {display: flex;align-items: stretch;justify-content: center;background-color: white;position: relative;}#sk-container-id-34 div.sk-item::before, #sk-container-id-34 div.sk-parallel-item::before {content: \"\";position: absolute;border-left: 1px solid gray;box-sizing: border-box;top: 0;bottom: 0;left: 50%;z-index: -1;}#sk-container-id-34 div.sk-parallel-item {display: flex;flex-direction: column;z-index: 1;position: relative;background-color: white;}#sk-container-id-34 div.sk-parallel-item:first-child::after {align-self: flex-end;width: 50%;}#sk-container-id-34 div.sk-parallel-item:last-child::after {align-self: flex-start;width: 50%;}#sk-container-id-34 div.sk-parallel-item:only-child::after {width: 0;}#sk-container-id-34 div.sk-dashed-wrapped {border: 1px dashed gray;margin: 0 0.4em 0.5em 0.4em;box-sizing: border-box;padding-bottom: 0.4em;background-color: white;}#sk-container-id-34 div.sk-label label {font-family: monospace;font-weight: bold;display: inline-block;line-height: 1.2em;}#sk-container-id-34 div.sk-label-container {text-align: center;}#sk-container-id-34 div.sk-container {/* jupyter's `normalize.less` sets `[hidden] { display: none; }` but bootstrap.min.css set `[hidden] { display: none !important; }` so we also need the `!important` here to be able to override the default hidden behavior on the sphinx rendered scikit-learn.org. See: https://github.com/scikit-learn/scikit-learn/issues/21755 */display: inline-block !important;position: relative;}#sk-container-id-34 div.sk-text-repr-fallback {display: none;}</style><div id=\"sk-container-id-34\" class=\"sk-top-container\"><div class=\"sk-text-repr-fallback\"><pre>DecisionTreeClassifier()</pre><b>In a Jupyter environment, please rerun this cell to show the HTML representation or trust the notebook. <br />On GitHub, the HTML representation is unable to render, please try loading this page with nbviewer.org.</b></div><div class=\"sk-container\" hidden><div class=\"sk-item\"><div class=\"sk-estimator sk-toggleable\"><input class=\"sk-toggleable__control sk-hidden--visually\" id=\"sk-estimator-id-34\" type=\"checkbox\" checked><label for=\"sk-estimator-id-34\" class=\"sk-toggleable__label sk-toggleable__label-arrow\">DecisionTreeClassifier</label><div class=\"sk-toggleable__content\"><pre>DecisionTreeClassifier()</pre></div></div></div></div></div>"
      ],
      "text/plain": [
       "DecisionTreeClassifier()"
      ]
     },
     "execution_count": 291,
     "metadata": {},
     "output_type": "execute_result"
    }
   ],
   "source": [
    "DecModel=DecisionTreeClassifier()\n",
    "DecModel.fit(x_train,y_train)"
   ]
  },
  {
   "cell_type": "code",
   "execution_count": 292,
   "id": "8f2ae947",
   "metadata": {},
   "outputs": [
    {
     "data": {
      "text/plain": [
       "array([  50, 1149,   30,  100,   50,   20,   40,   20,   30,   20,   50,\n",
       "       2500,  500,   40,   20], dtype=int64)"
      ]
     },
     "execution_count": 292,
     "metadata": {},
     "output_type": "execute_result"
    }
   ],
   "source": [
    "DecModel.predict(x_test)"
   ]
  },
  {
   "cell_type": "code",
   "execution_count": 293,
   "id": "3c4e6c7c",
   "metadata": {},
   "outputs": [
    {
     "data": {
      "text/plain": [
       "0.13333333333333333"
      ]
     },
     "execution_count": 293,
     "metadata": {},
     "output_type": "execute_result"
    }
   ],
   "source": [
    "DecModel.score(x_test,y_test)"
   ]
  },
  {
   "cell_type": "code",
   "execution_count": 294,
   "id": "28407015",
   "metadata": {},
   "outputs": [
    {
     "data": {
      "text/plain": [
       "0.952755905511811"
      ]
     },
     "execution_count": 294,
     "metadata": {},
     "output_type": "execute_result"
    }
   ],
   "source": [
    "DecModel.score(x_train,y_train)"
   ]
  },
  {
   "cell_type": "code",
   "execution_count": null,
   "id": "2d71b122",
   "metadata": {},
   "outputs": [],
   "source": []
  }
 ],
 "metadata": {
  "kernelspec": {
   "display_name": "Python 3 (ipykernel)",
   "language": "python",
   "name": "python3"
  },
  "language_info": {
   "codemirror_mode": {
    "name": "ipython",
    "version": 3
   },
   "file_extension": ".py",
   "mimetype": "text/x-python",
   "name": "python",
   "nbconvert_exporter": "python",
   "pygments_lexer": "ipython3",
   "version": "3.11.5"
  }
 },
 "nbformat": 4,
 "nbformat_minor": 5
}
